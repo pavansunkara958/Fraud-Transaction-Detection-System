{
 "cells": [
  {
   "cell_type": "markdown",
   "id": "eb442228",
   "metadata": {
    "id": "L0lKZBfIeRY3",
    "papermill": {
     "duration": 0.010656,
     "end_time": "2024-09-18T23:00:58.837996",
     "exception": false,
     "start_time": "2024-09-18T23:00:58.827340",
     "status": "completed"
    },
    "tags": []
   },
   "source": [
    "# **Import Libraries**"
   ]
  },
  {
   "cell_type": "code",
   "execution_count": 1,
   "id": "7e183e28",
   "metadata": {
    "execution": {
     "iopub.execute_input": "2024-09-18T23:00:58.859239Z",
     "iopub.status.busy": "2024-09-18T23:00:58.858322Z",
     "iopub.status.idle": "2024-09-18T23:01:01.330669Z",
     "shell.execute_reply": "2024-09-18T23:01:01.329728Z"
    },
    "id": "b71StV-h2oNg",
    "papermill": {
     "duration": 2.48631,
     "end_time": "2024-09-18T23:01:01.333586",
     "exception": false,
     "start_time": "2024-09-18T23:00:58.847276",
     "status": "completed"
    },
    "tags": []
   },
   "outputs": [],
   "source": [
    "import pandas as pd\n",
    "import numpy as np\n",
    "import matplotlib.pyplot as plt\n",
    "import seaborn as sns\n",
    "from sklearn.model_selection import train_test_split\n",
    "from sklearn.preprocessing import LabelEncoder,StandardScaler\n",
    "from sklearn.ensemble import RandomForestClassifier\n",
    "from sklearn.metrics import accuracy_score,confusion_matrix,f1_score,recall_score,precision_score"
   ]
  },
  {
   "cell_type": "markdown",
   "id": "96bf3c96",
   "metadata": {
    "id": "DEDKM0a4eoIp",
    "papermill": {
     "duration": 0.009535,
     "end_time": "2024-09-18T23:01:01.353475",
     "exception": false,
     "start_time": "2024-09-18T23:01:01.343940",
     "status": "completed"
    },
    "tags": []
   },
   "source": [
    "# **Load and Prepare Data**"
   ]
  },
  {
   "cell_type": "code",
   "execution_count": 2,
   "id": "f8b6ac53",
   "metadata": {
    "execution": {
     "iopub.execute_input": "2024-09-18T23:01:01.375164Z",
     "iopub.status.busy": "2024-09-18T23:01:01.374569Z",
     "iopub.status.idle": "2024-09-18T23:01:18.728337Z",
     "shell.execute_reply": "2024-09-18T23:01:18.727169Z"
    },
    "id": "bwqs59Fp72RD",
    "papermill": {
     "duration": 17.367696,
     "end_time": "2024-09-18T23:01:18.731137",
     "exception": false,
     "start_time": "2024-09-18T23:01:01.363441",
     "status": "completed"
    },
    "tags": []
   },
   "outputs": [],
   "source": [
    "data_train=pd.read_csv(\"/kaggle/input/fraud-detection/fraudTrain.csv\")\n",
    "data_test=pd.read_csv(\"/kaggle/input/fraud-detection/fraudTest.csv\")"
   ]
  },
  {
   "cell_type": "code",
   "execution_count": 3,
   "id": "8b5e5921",
   "metadata": {
    "execution": {
     "iopub.execute_input": "2024-09-18T23:01:18.753089Z",
     "iopub.status.busy": "2024-09-18T23:01:18.752646Z",
     "iopub.status.idle": "2024-09-18T23:01:18.989649Z",
     "shell.execute_reply": "2024-09-18T23:01:18.988477Z"
    },
    "id": "0oidRrIB2oCV",
    "papermill": {
     "duration": 0.251302,
     "end_time": "2024-09-18T23:01:18.992524",
     "exception": false,
     "start_time": "2024-09-18T23:01:18.741222",
     "status": "completed"
    },
    "tags": []
   },
   "outputs": [],
   "source": [
    "full_data=pd.concat([data_train, data_test])"
   ]
  },
  {
   "cell_type": "code",
   "execution_count": 4,
   "id": "e25db4ad",
   "metadata": {
    "execution": {
     "iopub.execute_input": "2024-09-18T23:01:19.015430Z",
     "iopub.status.busy": "2024-09-18T23:01:19.014979Z",
     "iopub.status.idle": "2024-09-18T23:01:19.056646Z",
     "shell.execute_reply": "2024-09-18T23:01:19.055619Z"
    },
    "id": "m53nw6J52n-w",
    "outputId": "4dee9ff0-a14b-448a-b80a-0d0b93371307",
    "papermill": {
     "duration": 0.056125,
     "end_time": "2024-09-18T23:01:19.059157",
     "exception": false,
     "start_time": "2024-09-18T23:01:19.003032",
     "status": "completed"
    },
    "tags": []
   },
   "outputs": [
    {
     "data": {
      "text/html": [
       "<div>\n",
       "<style scoped>\n",
       "    .dataframe tbody tr th:only-of-type {\n",
       "        vertical-align: middle;\n",
       "    }\n",
       "\n",
       "    .dataframe tbody tr th {\n",
       "        vertical-align: top;\n",
       "    }\n",
       "\n",
       "    .dataframe thead th {\n",
       "        text-align: right;\n",
       "    }\n",
       "</style>\n",
       "<table border=\"1\" class=\"dataframe\">\n",
       "  <thead>\n",
       "    <tr style=\"text-align: right;\">\n",
       "      <th></th>\n",
       "      <th>Unnamed: 0</th>\n",
       "      <th>trans_date_trans_time</th>\n",
       "      <th>cc_num</th>\n",
       "      <th>merchant</th>\n",
       "      <th>category</th>\n",
       "      <th>amt</th>\n",
       "      <th>first</th>\n",
       "      <th>last</th>\n",
       "      <th>gender</th>\n",
       "      <th>street</th>\n",
       "      <th>...</th>\n",
       "      <th>lat</th>\n",
       "      <th>long</th>\n",
       "      <th>city_pop</th>\n",
       "      <th>job</th>\n",
       "      <th>dob</th>\n",
       "      <th>trans_num</th>\n",
       "      <th>unix_time</th>\n",
       "      <th>merch_lat</th>\n",
       "      <th>merch_long</th>\n",
       "      <th>is_fraud</th>\n",
       "    </tr>\n",
       "  </thead>\n",
       "  <tbody>\n",
       "    <tr>\n",
       "      <th>0</th>\n",
       "      <td>0</td>\n",
       "      <td>2019-01-01 00:00:18</td>\n",
       "      <td>2703186189652095</td>\n",
       "      <td>fraud_Rippin, Kub and Mann</td>\n",
       "      <td>misc_net</td>\n",
       "      <td>4.97</td>\n",
       "      <td>Jennifer</td>\n",
       "      <td>Banks</td>\n",
       "      <td>F</td>\n",
       "      <td>561 Perry Cove</td>\n",
       "      <td>...</td>\n",
       "      <td>36.0788</td>\n",
       "      <td>-81.1781</td>\n",
       "      <td>3495</td>\n",
       "      <td>Psychologist, counselling</td>\n",
       "      <td>1988-03-09</td>\n",
       "      <td>0b242abb623afc578575680df30655b9</td>\n",
       "      <td>1325376018</td>\n",
       "      <td>36.011293</td>\n",
       "      <td>-82.048315</td>\n",
       "      <td>0</td>\n",
       "    </tr>\n",
       "    <tr>\n",
       "      <th>1</th>\n",
       "      <td>1</td>\n",
       "      <td>2019-01-01 00:00:44</td>\n",
       "      <td>630423337322</td>\n",
       "      <td>fraud_Heller, Gutmann and Zieme</td>\n",
       "      <td>grocery_pos</td>\n",
       "      <td>107.23</td>\n",
       "      <td>Stephanie</td>\n",
       "      <td>Gill</td>\n",
       "      <td>F</td>\n",
       "      <td>43039 Riley Greens Suite 393</td>\n",
       "      <td>...</td>\n",
       "      <td>48.8878</td>\n",
       "      <td>-118.2105</td>\n",
       "      <td>149</td>\n",
       "      <td>Special educational needs teacher</td>\n",
       "      <td>1978-06-21</td>\n",
       "      <td>1f76529f8574734946361c461b024d99</td>\n",
       "      <td>1325376044</td>\n",
       "      <td>49.159047</td>\n",
       "      <td>-118.186462</td>\n",
       "      <td>0</td>\n",
       "    </tr>\n",
       "    <tr>\n",
       "      <th>2</th>\n",
       "      <td>2</td>\n",
       "      <td>2019-01-01 00:00:51</td>\n",
       "      <td>38859492057661</td>\n",
       "      <td>fraud_Lind-Buckridge</td>\n",
       "      <td>entertainment</td>\n",
       "      <td>220.11</td>\n",
       "      <td>Edward</td>\n",
       "      <td>Sanchez</td>\n",
       "      <td>M</td>\n",
       "      <td>594 White Dale Suite 530</td>\n",
       "      <td>...</td>\n",
       "      <td>42.1808</td>\n",
       "      <td>-112.2620</td>\n",
       "      <td>4154</td>\n",
       "      <td>Nature conservation officer</td>\n",
       "      <td>1962-01-19</td>\n",
       "      <td>a1a22d70485983eac12b5b88dad1cf95</td>\n",
       "      <td>1325376051</td>\n",
       "      <td>43.150704</td>\n",
       "      <td>-112.154481</td>\n",
       "      <td>0</td>\n",
       "    </tr>\n",
       "    <tr>\n",
       "      <th>3</th>\n",
       "      <td>3</td>\n",
       "      <td>2019-01-01 00:01:16</td>\n",
       "      <td>3534093764340240</td>\n",
       "      <td>fraud_Kutch, Hermiston and Farrell</td>\n",
       "      <td>gas_transport</td>\n",
       "      <td>45.00</td>\n",
       "      <td>Jeremy</td>\n",
       "      <td>White</td>\n",
       "      <td>M</td>\n",
       "      <td>9443 Cynthia Court Apt. 038</td>\n",
       "      <td>...</td>\n",
       "      <td>46.2306</td>\n",
       "      <td>-112.1138</td>\n",
       "      <td>1939</td>\n",
       "      <td>Patent attorney</td>\n",
       "      <td>1967-01-12</td>\n",
       "      <td>6b849c168bdad6f867558c3793159a81</td>\n",
       "      <td>1325376076</td>\n",
       "      <td>47.034331</td>\n",
       "      <td>-112.561071</td>\n",
       "      <td>0</td>\n",
       "    </tr>\n",
       "    <tr>\n",
       "      <th>4</th>\n",
       "      <td>4</td>\n",
       "      <td>2019-01-01 00:03:06</td>\n",
       "      <td>375534208663984</td>\n",
       "      <td>fraud_Keeling-Crist</td>\n",
       "      <td>misc_pos</td>\n",
       "      <td>41.96</td>\n",
       "      <td>Tyler</td>\n",
       "      <td>Garcia</td>\n",
       "      <td>M</td>\n",
       "      <td>408 Bradley Rest</td>\n",
       "      <td>...</td>\n",
       "      <td>38.4207</td>\n",
       "      <td>-79.4629</td>\n",
       "      <td>99</td>\n",
       "      <td>Dance movement psychotherapist</td>\n",
       "      <td>1986-03-28</td>\n",
       "      <td>a41d7549acf90789359a9aa5346dcb46</td>\n",
       "      <td>1325376186</td>\n",
       "      <td>38.674999</td>\n",
       "      <td>-78.632459</td>\n",
       "      <td>0</td>\n",
       "    </tr>\n",
       "  </tbody>\n",
       "</table>\n",
       "<p>5 rows × 23 columns</p>\n",
       "</div>"
      ],
      "text/plain": [
       "   Unnamed: 0 trans_date_trans_time            cc_num  \\\n",
       "0           0   2019-01-01 00:00:18  2703186189652095   \n",
       "1           1   2019-01-01 00:00:44      630423337322   \n",
       "2           2   2019-01-01 00:00:51    38859492057661   \n",
       "3           3   2019-01-01 00:01:16  3534093764340240   \n",
       "4           4   2019-01-01 00:03:06   375534208663984   \n",
       "\n",
       "                             merchant       category     amt      first  \\\n",
       "0          fraud_Rippin, Kub and Mann       misc_net    4.97   Jennifer   \n",
       "1     fraud_Heller, Gutmann and Zieme    grocery_pos  107.23  Stephanie   \n",
       "2                fraud_Lind-Buckridge  entertainment  220.11     Edward   \n",
       "3  fraud_Kutch, Hermiston and Farrell  gas_transport   45.00     Jeremy   \n",
       "4                 fraud_Keeling-Crist       misc_pos   41.96      Tyler   \n",
       "\n",
       "      last gender                        street  ...      lat      long  \\\n",
       "0    Banks      F                561 Perry Cove  ...  36.0788  -81.1781   \n",
       "1     Gill      F  43039 Riley Greens Suite 393  ...  48.8878 -118.2105   \n",
       "2  Sanchez      M      594 White Dale Suite 530  ...  42.1808 -112.2620   \n",
       "3    White      M   9443 Cynthia Court Apt. 038  ...  46.2306 -112.1138   \n",
       "4   Garcia      M              408 Bradley Rest  ...  38.4207  -79.4629   \n",
       "\n",
       "   city_pop                                job         dob  \\\n",
       "0      3495          Psychologist, counselling  1988-03-09   \n",
       "1       149  Special educational needs teacher  1978-06-21   \n",
       "2      4154        Nature conservation officer  1962-01-19   \n",
       "3      1939                    Patent attorney  1967-01-12   \n",
       "4        99     Dance movement psychotherapist  1986-03-28   \n",
       "\n",
       "                          trans_num   unix_time  merch_lat  merch_long  \\\n",
       "0  0b242abb623afc578575680df30655b9  1325376018  36.011293  -82.048315   \n",
       "1  1f76529f8574734946361c461b024d99  1325376044  49.159047 -118.186462   \n",
       "2  a1a22d70485983eac12b5b88dad1cf95  1325376051  43.150704 -112.154481   \n",
       "3  6b849c168bdad6f867558c3793159a81  1325376076  47.034331 -112.561071   \n",
       "4  a41d7549acf90789359a9aa5346dcb46  1325376186  38.674999  -78.632459   \n",
       "\n",
       "   is_fraud  \n",
       "0         0  \n",
       "1         0  \n",
       "2         0  \n",
       "3         0  \n",
       "4         0  \n",
       "\n",
       "[5 rows x 23 columns]"
      ]
     },
     "execution_count": 4,
     "metadata": {},
     "output_type": "execute_result"
    }
   ],
   "source": [
    "full_data.head()"
   ]
  },
  {
   "cell_type": "code",
   "execution_count": 5,
   "id": "c4aef643",
   "metadata": {
    "execution": {
     "iopub.execute_input": "2024-09-18T23:01:19.082017Z",
     "iopub.status.busy": "2024-09-18T23:01:19.081053Z",
     "iopub.status.idle": "2024-09-18T23:01:19.100960Z",
     "shell.execute_reply": "2024-09-18T23:01:19.099913Z"
    },
    "id": "RFe50iq-6jYL",
    "outputId": "5e2513f4-faa5-4972-dd5e-d2ff569eb44a",
    "papermill": {
     "duration": 0.034367,
     "end_time": "2024-09-18T23:01:19.103829",
     "exception": false,
     "start_time": "2024-09-18T23:01:19.069462",
     "status": "completed"
    },
    "tags": []
   },
   "outputs": [
    {
     "name": "stdout",
     "output_type": "stream",
     "text": [
      "<class 'pandas.core.frame.DataFrame'>\n",
      "Index: 1852394 entries, 0 to 555718\n",
      "Data columns (total 23 columns):\n",
      " #   Column                 Dtype  \n",
      "---  ------                 -----  \n",
      " 0   Unnamed: 0             int64  \n",
      " 1   trans_date_trans_time  object \n",
      " 2   cc_num                 int64  \n",
      " 3   merchant               object \n",
      " 4   category               object \n",
      " 5   amt                    float64\n",
      " 6   first                  object \n",
      " 7   last                   object \n",
      " 8   gender                 object \n",
      " 9   street                 object \n",
      " 10  city                   object \n",
      " 11  state                  object \n",
      " 12  zip                    int64  \n",
      " 13  lat                    float64\n",
      " 14  long                   float64\n",
      " 15  city_pop               int64  \n",
      " 16  job                    object \n",
      " 17  dob                    object \n",
      " 18  trans_num              object \n",
      " 19  unix_time              int64  \n",
      " 20  merch_lat              float64\n",
      " 21  merch_long             float64\n",
      " 22  is_fraud               int64  \n",
      "dtypes: float64(5), int64(6), object(12)\n",
      "memory usage: 339.2+ MB\n"
     ]
    }
   ],
   "source": [
    "full_data.info()"
   ]
  },
  {
   "cell_type": "code",
   "execution_count": 6,
   "id": "e6bc6ab3",
   "metadata": {
    "execution": {
     "iopub.execute_input": "2024-09-18T23:01:19.127646Z",
     "iopub.status.busy": "2024-09-18T23:01:19.127219Z",
     "iopub.status.idle": "2024-09-18T23:01:22.957640Z",
     "shell.execute_reply": "2024-09-18T23:01:22.956661Z"
    },
    "id": "BhkDDuhou4o5",
    "papermill": {
     "duration": 3.845756,
     "end_time": "2024-09-18T23:01:22.960357",
     "exception": false,
     "start_time": "2024-09-18T23:01:19.114601",
     "status": "completed"
    },
    "tags": []
   },
   "outputs": [],
   "source": [
    "full_data=full_data.dropna()"
   ]
  },
  {
   "cell_type": "code",
   "execution_count": 7,
   "id": "e4ac2ca9",
   "metadata": {
    "execution": {
     "iopub.execute_input": "2024-09-18T23:01:22.984417Z",
     "iopub.status.busy": "2024-09-18T23:01:22.983992Z",
     "iopub.status.idle": "2024-09-18T23:01:25.354405Z",
     "shell.execute_reply": "2024-09-18T23:01:25.353262Z"
    },
    "id": "os-P2QGhuagW",
    "outputId": "e5b08640-9606-498f-f8f0-44603937befc",
    "papermill": {
     "duration": 2.385392,
     "end_time": "2024-09-18T23:01:25.356807",
     "exception": false,
     "start_time": "2024-09-18T23:01:22.971415",
     "status": "completed"
    },
    "tags": []
   },
   "outputs": [
    {
     "data": {
      "text/plain": [
       "Unnamed: 0               0\n",
       "trans_date_trans_time    0\n",
       "cc_num                   0\n",
       "merchant                 0\n",
       "category                 0\n",
       "amt                      0\n",
       "first                    0\n",
       "last                     0\n",
       "gender                   0\n",
       "street                   0\n",
       "city                     0\n",
       "state                    0\n",
       "zip                      0\n",
       "lat                      0\n",
       "long                     0\n",
       "city_pop                 0\n",
       "job                      0\n",
       "dob                      0\n",
       "trans_num                0\n",
       "unix_time                0\n",
       "merch_lat                0\n",
       "merch_long               0\n",
       "is_fraud                 0\n",
       "dtype: int64"
      ]
     },
     "execution_count": 7,
     "metadata": {},
     "output_type": "execute_result"
    }
   ],
   "source": [
    "full_data.isnull().sum()"
   ]
  },
  {
   "cell_type": "code",
   "execution_count": 8,
   "id": "9cebc345",
   "metadata": {
    "execution": {
     "iopub.execute_input": "2024-09-18T23:01:25.380534Z",
     "iopub.status.busy": "2024-09-18T23:01:25.379598Z",
     "iopub.status.idle": "2024-09-18T23:01:25.677726Z",
     "shell.execute_reply": "2024-09-18T23:01:25.676691Z"
    },
    "id": "sDCyrmi78Mu0",
    "outputId": "34042da3-90aa-4873-8f84-35758ed9f051",
    "papermill": {
     "duration": 0.312665,
     "end_time": "2024-09-18T23:01:25.680247",
     "exception": false,
     "start_time": "2024-09-18T23:01:25.367582",
     "status": "completed"
    },
    "tags": []
   },
   "outputs": [
    {
     "data": {
      "image/png": "[encoded data removed]",
      "text/plain": [
       "<Figure size 640x480 with 1 Axes>"
      ]
     },
     "metadata": {},
     "output_type": "display_data"
    }
   ],
   "source": [
    "fraud_counts=full_data['is_fraud'].value_counts()\n",
    "sns.barplot(x=fraud_counts.index, y=fraud_counts.values)\n",
    "plt.title('Distribution of Fraud')\n",
    "plt.xlabel('Fraud')\n",
    "plt.ylabel('Count')\n",
    "plt.show()"
   ]
  },
  {
   "cell_type": "code",
   "execution_count": 9,
   "id": "6d547cf7",
   "metadata": {
    "execution": {
     "iopub.execute_input": "2024-09-18T23:01:25.704974Z",
     "iopub.status.busy": "2024-09-18T23:01:25.704269Z",
     "iopub.status.idle": "2024-09-18T23:01:31.614884Z",
     "shell.execute_reply": "2024-09-18T23:01:31.613760Z"
    },
    "id": "EFNEtDXHugcm",
    "outputId": "84873170-2e19-4029-ab4b-331594992bf8",
    "papermill": {
     "duration": 5.925631,
     "end_time": "2024-09-18T23:01:31.617397",
     "exception": false,
     "start_time": "2024-09-18T23:01:25.691766",
     "status": "completed"
    },
    "tags": []
   },
   "outputs": [
    {
     "data": {
      "text/plain": [
       "0"
      ]
     },
     "execution_count": 9,
     "metadata": {},
     "output_type": "execute_result"
    }
   ],
   "source": [
    "full_data.duplicated().sum()"
   ]
  },
  {
   "cell_type": "code",
   "execution_count": 10,
   "id": "694002fa",
   "metadata": {
    "execution": {
     "iopub.execute_input": "2024-09-18T23:01:31.642546Z",
     "iopub.status.busy": "2024-09-18T23:01:31.641560Z",
     "iopub.status.idle": "2024-09-18T23:01:31.652521Z",
     "shell.execute_reply": "2024-09-18T23:01:31.651464Z"
    },
    "id": "C7lgw4jAyRaY",
    "outputId": "0e82fdb9-a96f-4045-b338-6320f03f39cf",
    "papermill": {
     "duration": 0.02622,
     "end_time": "2024-09-18T23:01:31.655001",
     "exception": false,
     "start_time": "2024-09-18T23:01:31.628781",
     "status": "completed"
    },
    "tags": []
   },
   "outputs": [
    {
     "name": "stdout",
     "output_type": "stream",
     "text": [
      "<class 'pandas.core.frame.DataFrame'>\n",
      "Index: 1852394 entries, 0 to 555718\n",
      "Data columns (total 23 columns):\n",
      " #   Column                 Dtype  \n",
      "---  ------                 -----  \n",
      " 0   Unnamed: 0             int64  \n",
      " 1   trans_date_trans_time  object \n",
      " 2   cc_num                 int64  \n",
      " 3   merchant               object \n",
      " 4   category               object \n",
      " 5   amt                    float64\n",
      " 6   first                  object \n",
      " 7   last                   object \n",
      " 8   gender                 object \n",
      " 9   street                 object \n",
      " 10  city                   object \n",
      " 11  state                  object \n",
      " 12  zip                    int64  \n",
      " 13  lat                    float64\n",
      " 14  long                   float64\n",
      " 15  city_pop               int64  \n",
      " 16  job                    object \n",
      " 17  dob                    object \n",
      " 18  trans_num              object \n",
      " 19  unix_time              int64  \n",
      " 20  merch_lat              float64\n",
      " 21  merch_long             float64\n",
      " 22  is_fraud               int64  \n",
      "dtypes: float64(5), int64(6), object(12)\n",
      "memory usage: 339.2+ MB\n"
     ]
    }
   ],
   "source": [
    "full_data.info()"
   ]
  },
  {
   "cell_type": "markdown",
   "id": "123cc06c",
   "metadata": {
    "id": "E0XL8lQKe_KR",
    "papermill": {
     "duration": 0.011064,
     "end_time": "2024-09-18T23:01:31.677553",
     "exception": false,
     "start_time": "2024-09-18T23:01:31.666489",
     "status": "completed"
    },
    "tags": []
   },
   "source": [
    "# **Data Processing**"
   ]
  },
  {
   "cell_type": "code",
   "execution_count": 11,
   "id": "c1caeef2",
   "metadata": {
    "execution": {
     "iopub.execute_input": "2024-09-18T23:01:31.702412Z",
     "iopub.status.busy": "2024-09-18T23:01:31.701971Z",
     "iopub.status.idle": "2024-09-18T23:01:32.148244Z",
     "shell.execute_reply": "2024-09-18T23:01:32.147143Z"
    },
    "id": "7l2THDDNOAVq",
    "outputId": "25865ce2-fc47-4c43-b82e-36c52b425562",
    "papermill": {
     "duration": 0.461969,
     "end_time": "2024-09-18T23:01:32.151112",
     "exception": false,
     "start_time": "2024-09-18T23:01:31.689143",
     "status": "completed"
    },
    "tags": []
   },
   "outputs": [
    {
     "name": "stdout",
     "output_type": "stream",
     "text": [
      "9651\n",
      "1842743\n"
     ]
    }
   ],
   "source": [
    "fraud=full_data[full_data[\"is_fraud\"]==1]\n",
    "not_fraud=full_data[full_data[\"is_fraud\"]==0]\n",
    "print(fraud.shape[0])\n",
    "print(not_fraud.shape[0])"
   ]
  },
  {
   "cell_type": "code",
   "execution_count": 12,
   "id": "9ee8ded7",
   "metadata": {
    "execution": {
     "iopub.execute_input": "2024-09-18T23:01:32.176195Z",
     "iopub.status.busy": "2024-09-18T23:01:32.175695Z",
     "iopub.status.idle": "2024-09-18T23:01:32.366533Z",
     "shell.execute_reply": "2024-09-18T23:01:32.365595Z"
    },
    "id": "W2V2b2ViOBLG",
    "papermill": {
     "duration": 0.206498,
     "end_time": "2024-09-18T23:01:32.369158",
     "exception": false,
     "start_time": "2024-09-18T23:01:32.162660",
     "status": "completed"
    },
    "tags": []
   },
   "outputs": [],
   "source": [
    "not_fraud=not_fraud.sample(fraud.shape[0])\n",
    "data=pd.concat([fraud,not_fraud])"
   ]
  },
  {
   "cell_type": "code",
   "execution_count": 13,
   "id": "56670348",
   "metadata": {
    "execution": {
     "iopub.execute_input": "2024-09-18T23:01:32.394320Z",
     "iopub.status.busy": "2024-09-18T23:01:32.393859Z",
     "iopub.status.idle": "2024-09-18T23:01:32.624227Z",
     "shell.execute_reply": "2024-09-18T23:01:32.622985Z"
    },
    "id": "ZdafIxP2OMBr",
    "outputId": "25b57ee9-dc40-4448-b478-43876b001303",
    "papermill": {
     "duration": 0.245607,
     "end_time": "2024-09-18T23:01:32.626529",
     "exception": false,
     "start_time": "2024-09-18T23:01:32.380922",
     "status": "completed"
    },
    "tags": []
   },
   "outputs": [
    {
     "data": {
      "image/png": "[encoded data removed]",
      "text/plain": [
       "<Figure size 640x480 with 1 Axes>"
      ]
     },
     "metadata": {},
     "output_type": "display_data"
    }
   ],
   "source": [
    "fraud_counts=data['is_fraud'].value_counts()\n",
    "sns.barplot(x=fraud_counts.index,y=fraud_counts.values)\n",
    "plt.title('New Distribution of Fraud')\n",
    "plt.xlabel('Fraud')\n",
    "plt.ylabel('Count')\n",
    "plt.show()"
   ]
  },
  {
   "cell_type": "markdown",
   "id": "acf041e5",
   "metadata": {
    "id": "HUCeyXyUjhqR",
    "papermill": {
     "duration": 0.011204,
     "end_time": "2024-09-18T23:01:32.649428",
     "exception": false,
     "start_time": "2024-09-18T23:01:32.638224",
     "status": "completed"
    },
    "tags": []
   },
   "source": [
    "# **Feature Engineering**"
   ]
  },
  {
   "cell_type": "code",
   "execution_count": 14,
   "id": "5b234654",
   "metadata": {
    "execution": {
     "iopub.execute_input": "2024-09-18T23:01:32.674631Z",
     "iopub.status.busy": "2024-09-18T23:01:32.674153Z",
     "iopub.status.idle": "2024-09-18T23:01:32.685925Z",
     "shell.execute_reply": "2024-09-18T23:01:32.685084Z"
    },
    "id": "Buvztho36jSa",
    "papermill": {
     "duration": 0.0272,
     "end_time": "2024-09-18T23:01:32.688102",
     "exception": false,
     "start_time": "2024-09-18T23:01:32.660902",
     "status": "completed"
    },
    "tags": []
   },
   "outputs": [],
   "source": [
    "unused_cols=['Unnamed: 0','first','last','unix_time','street','gender','job','dob','city','state','trans_num','merchant']\n",
    "data.drop(columns=unused_cols,inplace=True)"
   ]
  },
  {
   "cell_type": "code",
   "execution_count": 15,
   "id": "3a93308a",
   "metadata": {
    "execution": {
     "iopub.execute_input": "2024-09-18T23:01:32.713578Z",
     "iopub.status.busy": "2024-09-18T23:01:32.713129Z",
     "iopub.status.idle": "2024-09-18T23:01:32.730989Z",
     "shell.execute_reply": "2024-09-18T23:01:32.729733Z"
    },
    "id": "fEae59UfVBuT",
    "outputId": "f69fddad-cf8a-4b2e-e32f-c2e07d6ad912",
    "papermill": {
     "duration": 0.033409,
     "end_time": "2024-09-18T23:01:32.733495",
     "exception": false,
     "start_time": "2024-09-18T23:01:32.700086",
     "status": "completed"
    },
    "tags": []
   },
   "outputs": [
    {
     "name": "stdout",
     "output_type": "stream",
     "text": [
      "<class 'pandas.core.frame.DataFrame'>\n",
      "Index: 19302 entries, 2449 to 8196\n",
      "Data columns (total 11 columns):\n",
      " #   Column                 Non-Null Count  Dtype  \n",
      "---  ------                 --------------  -----  \n",
      " 0   trans_date_trans_time  19302 non-null  object \n",
      " 1   cc_num                 19302 non-null  int64  \n",
      " 2   category               19302 non-null  object \n",
      " 3   amt                    19302 non-null  float64\n",
      " 4   zip                    19302 non-null  int64  \n",
      " 5   lat                    19302 non-null  float64\n",
      " 6   long                   19302 non-null  float64\n",
      " 7   city_pop               19302 non-null  int64  \n",
      " 8   merch_lat              19302 non-null  float64\n",
      " 9   merch_long             19302 non-null  float64\n",
      " 10  is_fraud               19302 non-null  int64  \n",
      "dtypes: float64(5), int64(4), object(2)\n",
      "memory usage: 1.8+ MB\n"
     ]
    }
   ],
   "source": [
    "data.info()"
   ]
  },
  {
   "cell_type": "code",
   "execution_count": 16,
   "id": "737f5dd8",
   "metadata": {
    "execution": {
     "iopub.execute_input": "2024-09-18T23:01:32.759272Z",
     "iopub.status.busy": "2024-09-18T23:01:32.758231Z",
     "iopub.status.idle": "2024-09-18T23:01:32.792828Z",
     "shell.execute_reply": "2024-09-18T23:01:32.791685Z"
    },
    "id": "33b6vcIOcRHy",
    "papermill": {
     "duration": 0.050238,
     "end_time": "2024-09-18T23:01:32.795517",
     "exception": false,
     "start_time": "2024-09-18T23:01:32.745279",
     "status": "completed"
    },
    "tags": []
   },
   "outputs": [],
   "source": [
    "data['trans_date_trans_time']=pd.to_datetime(data['trans_date_trans_time'])\n",
    "data['trans_day']=data['trans_date_trans_time'].dt.day\n",
    "data['trans_month']=data['trans_date_trans_time'].dt.month\n",
    "data['trans_year']=data['trans_date_trans_time'].dt.year\n",
    "data['trans_hour']=data['trans_date_trans_time'].dt.hour\n",
    "data['trans_minute']=data['trans_date_trans_time'].dt.minute\n",
    "data.drop(columns=['trans_date_trans_time'],inplace=True)"
   ]
  },
  {
   "cell_type": "markdown",
   "id": "6813668c",
   "metadata": {
    "id": "bIrCfvO3fNDP",
    "papermill": {
     "duration": 0.011668,
     "end_time": "2024-09-18T23:01:32.818778",
     "exception": false,
     "start_time": "2024-09-18T23:01:32.807110",
     "status": "completed"
    },
    "tags": []
   },
   "source": [
    "# **Encode Variables**\n"
   ]
  },
  {
   "cell_type": "code",
   "execution_count": 17,
   "id": "1abd1645",
   "metadata": {
    "execution": {
     "iopub.execute_input": "2024-09-18T23:01:32.844255Z",
     "iopub.status.busy": "2024-09-18T23:01:32.843832Z",
     "iopub.status.idle": "2024-09-18T23:01:32.857576Z",
     "shell.execute_reply": "2024-09-18T23:01:32.856748Z"
    },
    "id": "hBcIXYab6jQp",
    "papermill": {
     "duration": 0.029125,
     "end_time": "2024-09-18T23:01:32.859964",
     "exception": false,
     "start_time": "2024-09-18T23:01:32.830839",
     "status": "completed"
    },
    "tags": []
   },
   "outputs": [],
   "source": [
    "encoder=LabelEncoder()\n",
    "data['category']=encoder.fit_transform(data['category'])\n",
    "data['cc_num']=encoder.fit_transform(data['cc_num'])"
   ]
  },
  {
   "cell_type": "code",
   "execution_count": 18,
   "id": "caa6ae62",
   "metadata": {
    "execution": {
     "iopub.execute_input": "2024-09-18T23:01:32.885544Z",
     "iopub.status.busy": "2024-09-18T23:01:32.885094Z",
     "iopub.status.idle": "2024-09-18T23:01:32.903524Z",
     "shell.execute_reply": "2024-09-18T23:01:32.902368Z"
    },
    "id": "FggJxv7AWy7n",
    "outputId": "8c937c03-da51-4dad-f503-25dfe2536356",
    "papermill": {
     "duration": 0.033897,
     "end_time": "2024-09-18T23:01:32.905789",
     "exception": false,
     "start_time": "2024-09-18T23:01:32.871892",
     "status": "completed"
    },
    "tags": []
   },
   "outputs": [
    {
     "data": {
      "text/html": [
       "<div>\n",
       "<style scoped>\n",
       "    .dataframe tbody tr th:only-of-type {\n",
       "        vertical-align: middle;\n",
       "    }\n",
       "\n",
       "    .dataframe tbody tr th {\n",
       "        vertical-align: top;\n",
       "    }\n",
       "\n",
       "    .dataframe thead th {\n",
       "        text-align: right;\n",
       "    }\n",
       "</style>\n",
       "<table border=\"1\" class=\"dataframe\">\n",
       "  <thead>\n",
       "    <tr style=\"text-align: right;\">\n",
       "      <th></th>\n",
       "      <th>cc_num</th>\n",
       "      <th>category</th>\n",
       "      <th>amt</th>\n",
       "      <th>zip</th>\n",
       "      <th>lat</th>\n",
       "      <th>long</th>\n",
       "      <th>city_pop</th>\n",
       "      <th>merch_lat</th>\n",
       "      <th>merch_long</th>\n",
       "      <th>is_fraud</th>\n",
       "      <th>trans_day</th>\n",
       "      <th>trans_month</th>\n",
       "      <th>trans_year</th>\n",
       "      <th>trans_hour</th>\n",
       "      <th>trans_minute</th>\n",
       "    </tr>\n",
       "  </thead>\n",
       "  <tbody>\n",
       "    <tr>\n",
       "      <th>2449</th>\n",
       "      <td>126</td>\n",
       "      <td>4</td>\n",
       "      <td>281.06</td>\n",
       "      <td>28611</td>\n",
       "      <td>35.9946</td>\n",
       "      <td>-81.7266</td>\n",
       "      <td>885</td>\n",
       "      <td>36.430124</td>\n",
       "      <td>-81.179483</td>\n",
       "      <td>1</td>\n",
       "      <td>2</td>\n",
       "      <td>1</td>\n",
       "      <td>2019</td>\n",
       "      <td>1</td>\n",
       "      <td>6</td>\n",
       "    </tr>\n",
       "    <tr>\n",
       "      <th>2472</th>\n",
       "      <td>314</td>\n",
       "      <td>2</td>\n",
       "      <td>11.52</td>\n",
       "      <td>78208</td>\n",
       "      <td>29.4400</td>\n",
       "      <td>-98.4590</td>\n",
       "      <td>1595797</td>\n",
       "      <td>29.819364</td>\n",
       "      <td>-99.142791</td>\n",
       "      <td>1</td>\n",
       "      <td>2</td>\n",
       "      <td>1</td>\n",
       "      <td>2019</td>\n",
       "      <td>1</td>\n",
       "      <td>47</td>\n",
       "    </tr>\n",
       "    <tr>\n",
       "      <th>2523</th>\n",
       "      <td>314</td>\n",
       "      <td>4</td>\n",
       "      <td>276.31</td>\n",
       "      <td>78208</td>\n",
       "      <td>29.4400</td>\n",
       "      <td>-98.4590</td>\n",
       "      <td>1595797</td>\n",
       "      <td>29.273085</td>\n",
       "      <td>-98.836360</td>\n",
       "      <td>1</td>\n",
       "      <td>2</td>\n",
       "      <td>1</td>\n",
       "      <td>2019</td>\n",
       "      <td>3</td>\n",
       "      <td>5</td>\n",
       "    </tr>\n",
       "    <tr>\n",
       "      <th>2546</th>\n",
       "      <td>126</td>\n",
       "      <td>2</td>\n",
       "      <td>7.03</td>\n",
       "      <td>28611</td>\n",
       "      <td>35.9946</td>\n",
       "      <td>-81.7266</td>\n",
       "      <td>885</td>\n",
       "      <td>35.909292</td>\n",
       "      <td>-82.091010</td>\n",
       "      <td>1</td>\n",
       "      <td>2</td>\n",
       "      <td>1</td>\n",
       "      <td>2019</td>\n",
       "      <td>3</td>\n",
       "      <td>38</td>\n",
       "    </tr>\n",
       "    <tr>\n",
       "      <th>2553</th>\n",
       "      <td>314</td>\n",
       "      <td>4</td>\n",
       "      <td>275.73</td>\n",
       "      <td>78208</td>\n",
       "      <td>29.4400</td>\n",
       "      <td>-98.4590</td>\n",
       "      <td>1595797</td>\n",
       "      <td>29.786426</td>\n",
       "      <td>-98.683410</td>\n",
       "      <td>1</td>\n",
       "      <td>2</td>\n",
       "      <td>1</td>\n",
       "      <td>2019</td>\n",
       "      <td>3</td>\n",
       "      <td>55</td>\n",
       "    </tr>\n",
       "  </tbody>\n",
       "</table>\n",
       "</div>"
      ],
      "text/plain": [
       "      cc_num  category     amt    zip      lat     long  city_pop  merch_lat  \\\n",
       "2449     126         4  281.06  28611  35.9946 -81.7266       885  36.430124   \n",
       "2472     314         2   11.52  78208  29.4400 -98.4590   1595797  29.819364   \n",
       "2523     314         4  276.31  78208  29.4400 -98.4590   1595797  29.273085   \n",
       "2546     126         2    7.03  28611  35.9946 -81.7266       885  35.909292   \n",
       "2553     314         4  275.73  78208  29.4400 -98.4590   1595797  29.786426   \n",
       "\n",
       "      merch_long  is_fraud  trans_day  trans_month  trans_year  trans_hour  \\\n",
       "2449  -81.179483         1          2            1        2019           1   \n",
       "2472  -99.142791         1          2            1        2019           1   \n",
       "2523  -98.836360         1          2            1        2019           3   \n",
       "2546  -82.091010         1          2            1        2019           3   \n",
       "2553  -98.683410         1          2            1        2019           3   \n",
       "\n",
       "      trans_minute  \n",
       "2449             6  \n",
       "2472            47  \n",
       "2523             5  \n",
       "2546            38  \n",
       "2553            55  "
      ]
     },
     "execution_count": 18,
     "metadata": {},
     "output_type": "execute_result"
    }
   ],
   "source": [
    "data.head()"
   ]
  },
  {
   "cell_type": "markdown",
   "id": "65bff450",
   "metadata": {
    "id": "Ng257HNXfUeW",
    "papermill": {
     "duration": 0.012006,
     "end_time": "2024-09-18T23:01:32.930081",
     "exception": false,
     "start_time": "2024-09-18T23:01:32.918075",
     "status": "completed"
    },
    "tags": []
   },
   "source": [
    "# **Feature** **Scaling**"
   ]
  },
  {
   "cell_type": "code",
   "execution_count": 19,
   "id": "66d3b95f",
   "metadata": {
    "execution": {
     "iopub.execute_input": "2024-09-18T23:01:32.957876Z",
     "iopub.status.busy": "2024-09-18T23:01:32.957427Z",
     "iopub.status.idle": "2024-09-18T23:01:32.978696Z",
     "shell.execute_reply": "2024-09-18T23:01:32.977616Z"
    },
    "id": "su05sVIP60bY",
    "papermill": {
     "duration": 0.037622,
     "end_time": "2024-09-18T23:01:32.981386",
     "exception": false,
     "start_time": "2024-09-18T23:01:32.943764",
     "status": "completed"
    },
    "tags": []
   },
   "outputs": [],
   "source": [
    "scaler=StandardScaler()\n",
    "data['amt']=scaler.fit_transform(data[['amt']])\n",
    "data['zip']=scaler.fit_transform(data[['zip']])\n",
    "data['city_pop']=scaler.fit_transform(data[['city_pop']])\n",
    "data['cc_num']=encoder.fit_transform(data['cc_num'])"
   ]
  },
  {
   "cell_type": "code",
   "execution_count": 20,
   "id": "4bf17d71",
   "metadata": {
    "execution": {
     "iopub.execute_input": "2024-09-18T23:01:33.008467Z",
     "iopub.status.busy": "2024-09-18T23:01:33.007493Z",
     "iopub.status.idle": "2024-09-18T23:01:33.014937Z",
     "shell.execute_reply": "2024-09-18T23:01:33.013840Z"
    },
    "id": "yDxSCLAvG7sR",
    "papermill": {
     "duration": 0.023389,
     "end_time": "2024-09-18T23:01:33.017292",
     "exception": false,
     "start_time": "2024-09-18T23:01:32.993903",
     "status": "completed"
    },
    "tags": []
   },
   "outputs": [],
   "source": [
    "X=data.drop('is_fraud',axis=1)\n",
    "y=data['is_fraud']"
   ]
  },
  {
   "cell_type": "markdown",
   "id": "43003099",
   "metadata": {
    "id": "usq5O6sEgDgU",
    "papermill": {
     "duration": 0.012165,
     "end_time": "2024-09-18T23:01:33.041800",
     "exception": false,
     "start_time": "2024-09-18T23:01:33.029635",
     "status": "completed"
    },
    "tags": []
   },
   "source": [
    "# **Split the** **Data**\n"
   ]
  },
  {
   "cell_type": "code",
   "execution_count": 21,
   "id": "11218776",
   "metadata": {
    "execution": {
     "iopub.execute_input": "2024-09-18T23:01:33.067811Z",
     "iopub.status.busy": "2024-09-18T23:01:33.067332Z",
     "iopub.status.idle": "2024-09-18T23:01:33.077613Z",
     "shell.execute_reply": "2024-09-18T23:01:33.076737Z"
    },
    "id": "QHbL4Bo97E9T",
    "papermill": {
     "duration": 0.026149,
     "end_time": "2024-09-18T23:01:33.079994",
     "exception": false,
     "start_time": "2024-09-18T23:01:33.053845",
     "status": "completed"
    },
    "tags": []
   },
   "outputs": [],
   "source": [
    "X_train, X_test, y_train, y_test = train_test_split(X, y, test_size=0.2,random_state=0)"
   ]
  },
  {
   "cell_type": "markdown",
   "id": "a5f3b60e",
   "metadata": {
    "id": "FKMuAdzrgNVL",
    "papermill": {
     "duration": 0.01159,
     "end_time": "2024-09-18T23:01:33.103611",
     "exception": false,
     "start_time": "2024-09-18T23:01:33.092021",
     "status": "completed"
    },
    "tags": []
   },
   "source": [
    "# **Build and Train the Model**"
   ]
  },
  {
   "cell_type": "code",
   "execution_count": 22,
   "id": "7c79541c",
   "metadata": {
    "execution": {
     "iopub.execute_input": "2024-09-18T23:01:33.130294Z",
     "iopub.status.busy": "2024-09-18T23:01:33.129871Z",
     "iopub.status.idle": "2024-09-18T23:01:36.483657Z",
     "shell.execute_reply": "2024-09-18T23:01:36.482743Z"
    },
    "id": "82pkBvs6ygDS",
    "papermill": {
     "duration": 3.370344,
     "end_time": "2024-09-18T23:01:36.486462",
     "exception": false,
     "start_time": "2024-09-18T23:01:33.116118",
     "status": "completed"
    },
    "tags": []
   },
   "outputs": [],
   "source": [
    "RFC=RandomForestClassifier(random_state=0)\n",
    "RFC.fit(X_train,y_train)\n",
    "y_pred=RFC.predict(X_test)"
   ]
  },
  {
   "cell_type": "markdown",
   "id": "67aaf478",
   "metadata": {
    "id": "-YfpZ5I6gVnh",
    "papermill": {
     "duration": 0.011744,
     "end_time": "2024-09-18T23:01:36.510507",
     "exception": false,
     "start_time": "2024-09-18T23:01:36.498763",
     "status": "completed"
    },
    "tags": []
   },
   "source": [
    "# **Evaluate** **the** **Model**\n"
   ]
  },
  {
   "cell_type": "code",
   "execution_count": 23,
   "id": "84214c58",
   "metadata": {
    "execution": {
     "iopub.execute_input": "2024-09-18T23:01:36.536882Z",
     "iopub.status.busy": "2024-09-18T23:01:36.536133Z",
     "iopub.status.idle": "2024-09-18T23:01:36.560341Z",
     "shell.execute_reply": "2024-09-18T23:01:36.558777Z"
    },
    "id": "tOm_aeAG2k_5",
    "outputId": "68826d02-ac77-409d-cb72-e4be94b3fe2b",
    "papermill": {
     "duration": 0.040033,
     "end_time": "2024-09-18T23:01:36.562757",
     "exception": false,
     "start_time": "2024-09-18T23:01:36.522724",
     "status": "completed"
    },
    "tags": []
   },
   "outputs": [
    {
     "name": "stdout",
     "output_type": "stream",
     "text": [
      "Accuracy: 0.9642579642579643\n",
      "Precision: 0.9653179190751445\n",
      "Recall: 0.9622839182818229\n",
      "F1 score: 0.9637985309548793\n",
      "Confusion matrix: [[1886   66]\n",
      " [  72 1837]]\n"
     ]
    }
   ],
   "source": [
    "print('Accuracy:',accuracy_score(y_test, y_pred))\n",
    "print('Precision:',precision_score(y_test, y_pred))\n",
    "print('Recall:', recall_score(y_test, y_pred))\n",
    "print('F1 score:',f1_score(y_test, y_pred))\n",
    "print('Confusion matrix:',confusion_matrix(y_test, y_pred))"
   ]
  },
  {
   "cell_type": "code",
   "execution_count": 24,
   "id": "a8783b46",
   "metadata": {
    "execution": {
     "iopub.execute_input": "2024-09-18T23:01:36.589331Z",
     "iopub.status.busy": "2024-09-18T23:01:36.588903Z",
     "iopub.status.idle": "2024-09-18T23:01:36.950777Z",
     "shell.execute_reply": "2024-09-18T23:01:36.949646Z"
    },
    "id": "ctURD1mbteTh",
    "outputId": "bc27ecfd-63f8-479f-a16c-180d4a52af23",
    "papermill": {
     "duration": 0.378704,
     "end_time": "2024-09-18T23:01:36.953774",
     "exception": false,
     "start_time": "2024-09-18T23:01:36.575070",
     "status": "completed"
    },
    "tags": []
   },
   "outputs": [
    {
     "data": {
      "text/plain": [
       "Text(0.5, 1.0, 'Confusion Matrix')"
      ]
     },
     "execution_count": 24,
     "metadata": {},
     "output_type": "execute_result"
    },
    {
     "data": {
      "image/png": "[encoded data removed]",
      "text/plain": [
       "<Figure size 1000x1000 with 2 Axes>"
      ]
     },
     "metadata": {},
     "output_type": "display_data"
    }
   ],
   "source": [
    "plt.figure(figsize=(10,10))\n",
    "sns.heatmap(confusion_matrix(y_test, y_pred), annot=True, fmt='d')\n",
    "plt.xlabel('Predicted')\n",
    "plt.ylabel('Actual')\n",
    "plt.title('Confusion Matrix')"
   ]
  }
 ],
 "metadata": {
  "colab": {
   "provenance": []
  },
  "kaggle": {
   "accelerator": "none",
   "dataSources": [
    {
     "datasetId": 817870,
     "sourceId": 1399887,
     "sourceType": "datasetVersion"
    }
   ],
   "dockerImageVersionId": 30761,
   "isGpuEnabled": false,
   "isInternetEnabled": true,
   "language": "python",
   "sourceType": "notebook"
  },
  "kernelspec": {
   "display_name": "Python 3",
   "language": "python",
   "name": "python3"
  },
  "language_info": {
   "codemirror_mode": {
    "name": "ipython",
    "version": 3
   },
   "file_extension": ".py",
   "mimetype": "text/x-python",
   "name": "python",
   "nbconvert_exporter": "python",
   "pygments_lexer": "ipython3",
   "version": "3.10.14"
  },
  "papermill": {
   "default_parameters": {},
   "duration": 41.922188,
   "end_time": "2024-09-18T23:01:37.991276",
   "environment_variables": {},
   "exception": null,
   "input_path": "__notebook__.ipynb",
   "output_path": "__notebook__.ipynb",
   "parameters": {},
   "start_time": "2024-09-18T23:00:56.069088",
   "version": "2.6.0"
  }
 },
 "nbformat": 4,
 "nbformat_minor": 5
}
